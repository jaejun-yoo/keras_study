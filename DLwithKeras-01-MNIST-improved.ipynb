{
 "cells": [
  {
   "cell_type": "code",
   "execution_count": 5,
   "metadata": {
    "collapsed": false
   },
   "outputs": [
    {
     "name": "stdout",
     "output_type": "stream",
     "text": [
      "60000 train samples\n",
      "10000 test samples\n",
      "[7 2 1 0 4 1 4 9 5 9 0 6 9 0 1 5 9 7 3 4 9 6 6 5 4 0 7 4 0 1 3 1 3 4 7 2 7\n",
      " 1 2 1 1 7 4 2 3 5 1 2 4 4 6 3 5 5 6 0 4 1 9 5 7 8 9 3 7 4 6 4 3 0 7 0 2 9\n",
      " 1 7 3 2 9 7 7 6 2 7 8 4 7 3 6 1 3 6 9 3 1 4 1 7 6 9]\n",
      "_________________________________________________________________\n",
      "Layer (type)                 Output Shape              Param #   \n",
      "=================================================================\n",
      "dense_11 (Dense)             (None, 128)               100480    \n",
      "_________________________________________________________________\n",
      "activation_11 (Activation)   (None, 128)               0         \n",
      "_________________________________________________________________\n",
      "dropout_1 (Dropout)          (None, 128)               0         \n",
      "_________________________________________________________________\n",
      "dense_12 (Dense)             (None, 128)               16512     \n",
      "_________________________________________________________________\n",
      "activation_12 (Activation)   (None, 128)               0         \n",
      "_________________________________________________________________\n",
      "dropout_2 (Dropout)          (None, 128)               0         \n",
      "_________________________________________________________________\n",
      "dense_13 (Dense)             (None, 10)                1290      \n",
      "_________________________________________________________________\n",
      "activation_13 (Activation)   (None, 10)                0         \n",
      "=================================================================\n",
      "Total params: 118,282\n",
      "Trainable params: 118,282\n",
      "Non-trainable params: 0\n",
      "_________________________________________________________________\n",
      "Train on 48000 samples, validate on 12000 samples\n",
      "Epoch 1/20\n",
      "48000/48000 [==============================] - 1s - loss: 1.7404 - acc: 0.4539 - val_loss: 0.9293 - val_acc: 0.8124\n",
      "Epoch 2/20\n",
      "48000/48000 [==============================] - 1s - loss: 0.9232 - acc: 0.7229 - val_loss: 0.5400 - val_acc: 0.8652\n",
      "Epoch 3/20\n",
      "48000/48000 [==============================] - 1s - loss: 0.6935 - acc: 0.7881 - val_loss: 0.4298 - val_acc: 0.8883\n",
      "Epoch 4/20\n",
      "48000/48000 [==============================] - 1s - loss: 0.5947 - acc: 0.8209 - val_loss: 0.3790 - val_acc: 0.8977\n",
      "Epoch 5/20\n",
      "48000/48000 [==============================] - 1s - loss: 0.5347 - acc: 0.8393 - val_loss: 0.3456 - val_acc: 0.9039\n",
      "Epoch 6/20\n",
      "48000/48000 [==============================] - 1s - loss: 0.4976 - acc: 0.8524 - val_loss: 0.3232 - val_acc: 0.9107\n",
      "Epoch 7/20\n",
      "48000/48000 [==============================] - 1s - loss: 0.4616 - acc: 0.8628 - val_loss: 0.3048 - val_acc: 0.9128\n",
      "Epoch 8/20\n",
      "48000/48000 [==============================] - 1s - loss: 0.4386 - acc: 0.8688 - val_loss: 0.2896 - val_acc: 0.9172\n",
      "Epoch 9/20\n",
      "48000/48000 [==============================] - 1s - loss: 0.4181 - acc: 0.8762 - val_loss: 0.2776 - val_acc: 0.9198\n",
      "Epoch 10/20\n",
      "48000/48000 [==============================] - 1s - loss: 0.3990 - acc: 0.8838 - val_loss: 0.2657 - val_acc: 0.9234\n",
      "Epoch 11/20\n",
      "48000/48000 [==============================] - 1s - loss: 0.3819 - acc: 0.8876 - val_loss: 0.2552 - val_acc: 0.9258\n",
      "Epoch 12/20\n",
      "48000/48000 [==============================] - 1s - loss: 0.3688 - acc: 0.8920 - val_loss: 0.2465 - val_acc: 0.9284\n",
      "Epoch 13/20\n",
      "48000/48000 [==============================] - 1s - loss: 0.3571 - acc: 0.8943 - val_loss: 0.2388 - val_acc: 0.9298\n",
      "Epoch 14/20\n",
      "48000/48000 [==============================] - 1s - loss: 0.3466 - acc: 0.8991 - val_loss: 0.2320 - val_acc: 0.9322\n",
      "Epoch 15/20\n",
      "48000/48000 [==============================] - 1s - loss: 0.3358 - acc: 0.9015 - val_loss: 0.2261 - val_acc: 0.9339\n",
      "Epoch 16/20\n",
      "48000/48000 [==============================] - 1s - loss: 0.3244 - acc: 0.9054 - val_loss: 0.2180 - val_acc: 0.9351\n",
      "Epoch 17/20\n",
      "48000/48000 [==============================] - 1s - loss: 0.3142 - acc: 0.9084 - val_loss: 0.2122 - val_acc: 0.9378\n",
      "Epoch 18/20\n",
      "48000/48000 [==============================] - 1s - loss: 0.3103 - acc: 0.9094 - val_loss: 0.2076 - val_acc: 0.9388\n",
      "Epoch 19/20\n",
      "48000/48000 [==============================] - 1s - loss: 0.3019 - acc: 0.9117 - val_loss: 0.2018 - val_acc: 0.9409\n",
      "Epoch 20/20\n",
      "48000/48000 [==============================] - 1s - loss: 0.2931 - acc: 0.9132 - val_loss: 0.1974 - val_acc: 0.9420\n",
      " 9280/10000 [==========================>...] - ETA: 0sTest score:  0.199423945969\n",
      "Test accuracy:  0.9402\n"
     ]
    }
   ],
   "source": [
    "from __future__ import print_function\n",
    "import numpy as np\n",
    "from keras.datasets import mnist\n",
    "from keras.models import Sequential\n",
    "from keras.layers.core import Dense, Dropout, Activation\n",
    "from keras.optimizers import SGD\n",
    "from keras.utils import np_utils\n",
    "\n",
    "import matplotlib.pyplot as plt\n",
    "\n",
    "np.random.seed(1671) # for reproducibility\n",
    "# network and training\n",
    "NB_EPOCH = 20\n",
    "BATCH_SIZE = 128\n",
    "VERBOSE = 1\n",
    "NB_CLASSES = 10\n",
    "OPTIMIZER = SGD()\n",
    "N_HIDDEN = 128\n",
    "VALIDATION_SPLIT = 0.2 # how much TRAIN is reserved for VALIDATION\n",
    "DROPOUT = 0.3 \n",
    "\n",
    "# data: shuffled and split between train and test sets\n",
    "(X_train, y_train), (X_test, y_test) = mnist.load_data()\n",
    "\n",
    "RESHAPED = 784\n",
    "\n",
    "X_train = X_train.reshape(60000,RESHAPED)\n",
    "X_test = X_test.reshape(10000,RESHAPED)\n",
    "X_train = X_train.astype('float32')\n",
    "X_test = X_test.astype('float32')\n",
    "\n",
    "# normalize\n",
    "X_train /= 255\n",
    "X_test /= 255\n",
    "print(X_train.shape[0], 'train samples')\n",
    "print(X_test.shape[0], 'test samples')\n",
    "\n",
    "# convert class vectors to binary class matrices\n",
    "Y_train = np_utils.to_categorical(y_train, NB_CLASSES)\n",
    "Y_test = np_utils.to_categorical(y_test, NB_CLASSES)\n",
    "print(y_test[:100])\n",
    "\n",
    "model = Sequential()\n",
    "model.add(Dense(N_HIDDEN, input_shape=(RESHAPED,)))\n",
    "model.add(Activation('relu'))\n",
    "model.add(Dropout(DROPOUT))\n",
    "model.add(Dense(N_HIDDEN))\n",
    "model.add(Activation('relu'))\n",
    "model.add(Dropout(DROPOUT))\n",
    "model.add(Dense(NB_CLASSES))\n",
    "model.add(Activation('softmax'))\n",
    "model.summary()\n",
    "model.compile(loss = 'categorical_crossentropy', \n",
    "             optimizer = OPTIMIZER, \n",
    "             metrics = ['accuracy'])\n",
    "history = model.fit(X_train, Y_train, batch_size = BATCH_SIZE, epochs = NB_EPOCH, verbose = VERBOSE, validation_split = VALIDATION_SPLIT)\n",
    "score = model.evaluate(X_test,Y_test, verbose = VERBOSE)\n",
    "print(\"Test score: \", score[0])\n",
    "print(\"Test accuracy: \", score[1])\n",
    "\n",
    "\n",
    "\n"
   ]
  },
  {
   "cell_type": "code",
   "execution_count": 10,
   "metadata": {
    "collapsed": false
   },
   "outputs": [
    {
     "name": "stdout",
     "output_type": "stream",
     "text": [
      "{'val_loss': [0.92929824034372965, 0.54003837299346924, 0.42978704500198367, 0.37896242332458496, 0.34555926267306009, 0.32317352422078449, 0.30478882805506391, 0.28959518917401633, 0.27760776321093239, 0.26568941775957744, 0.25515976031621296, 0.24653920555114747, 0.23879783781369526, 0.23195711143811543, 0.22609368856747944, 0.21803140711784363, 0.21215212595462798, 0.20755096729596456, 0.20182094260056813, 0.19738976977268854], 'val_acc': [0.81241666666666668, 0.86524999999999996, 0.88833333349227905, 0.8976666669845581, 0.90391666698455808, 0.91066666666666662, 0.91275000047683719, 0.91716666682561243, 0.91983333349227903, 0.92341666682561241, 0.92575000031789145, 0.92841666666666667, 0.92983333349227903, 0.93216666698455808, 0.93391666698455811, 0.93508333365122476, 0.93783333365122479, 0.93875000031789146, 0.94091666666666662, 0.94200000031789144], 'loss': [1.7403786815007527, 0.92316596317291255, 0.69352952424685166, 0.5947235450744629, 0.5347088378270467, 0.49762851953506471, 0.46163784654935203, 0.4385979826450348, 0.41811325697104135, 0.39901116049289703, 0.38189658776919044, 0.36882601547241212, 0.35707804783185321, 0.34658950217564899, 0.33584930618604025, 0.3244150922695796, 0.31418999195098879, 0.31025705409049986, 0.30185676566759745, 0.29307230361302694], 'acc': [0.45393749999999999, 0.72291666666666665, 0.78808333333333336, 0.82087500000000002, 0.83933333333333338, 0.85241666666666671, 0.86275000000000002, 0.86879166666666663, 0.87618750000000001, 0.88383333333333336, 0.88760416666666664, 0.8919583333333333, 0.89433333333333331, 0.89906249999999999, 0.90152083333333333, 0.90543750000000001, 0.90841666666666665, 0.90935416666666669, 0.91170833333333334, 0.91316666666666668]}\n"
     ]
    },
    {
     "data": {
      "image/png": "[encoded data removed]",
      "text/plain": [
       "<matplotlib.figure.Figure at 0x274e2b5ce48>"
      ]
     },
     "metadata": {},
     "output_type": "display_data"
    },
    {
     "data": {
      "image/png": "[encoded data removed]",
      "text/plain": [
       "<matplotlib.figure.Figure at 0x274e2b70eb8>"
      ]
     },
     "metadata": {},
     "output_type": "display_data"
    }
   ],
   "source": [
    "# list all data in history\n",
    "print(history.history.keys())\n",
    "# summarize history for accuracy\n",
    "plt.plot(history.history['acc'])\n",
    "plt.plot(history.history['val_acc'])\n",
    "plt.title('model accuracy')\n",
    "plt.ylabel('accuracy')\n",
    "plt.xlabel('epoch')\n",
    "plt.legend(['train','test'],loc = 'upper left')\n",
    "plt.show()\n",
    "\n",
    "# summarize history for loss\n",
    "plt.plot(history.history['loss'])\n",
    "plt.plot(history.history['val_loss'])\n",
    "plt.title('model loss')\n",
    "plt.ylabel('loss')\n",
    "plt.xlabel('epoch')\n",
    "plt.legend(['train', 'test'],loc = 'upper left')\n",
    "plt.show()\n",
    "\n",
    "\n",
    "\n",
    "\n",
    "\n",
    "\n",
    "\n"
   ]
  }
 ],
 "metadata": {
  "anaconda-cloud": {},
  "kernelspec": {
   "display_name": "Python [conda env:tensorflow35]",
   "language": "python",
   "name": "conda-env-tensorflow35-py"
  },
  "language_info": {
   "codemirror_mode": {
    "name": "ipython",
    "version": 3
   },
   "file_extension": ".py",
   "mimetype": "text/x-python",
   "name": "python",
   "nbconvert_exporter": "python",
   "pygments_lexer": "ipython3",
   "version": "3.5.2"
  }
 },
 "nbformat": 4,
 "nbformat_minor": 1
}
